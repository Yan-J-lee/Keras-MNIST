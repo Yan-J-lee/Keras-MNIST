{
 "cells": [
  {
   "cell_type": "code",
   "execution_count": 35,
   "metadata": {},
   "outputs": [],
   "source": [
    "from keras.datasets import mnist  # handwritten digits\n",
    "(x_train, labels_train), (x_test, labels_test) = mnist.load_data()  # splitting, training images, training image labels ..."
   ]
  },
  {
   "cell_type": "code",
   "execution_count": 36,
   "metadata": {},
   "outputs": [],
   "source": [
    "# value normalisation; format the data, convert to floating-point numbers in the range [0, 1]\n",
    "x_train = x_train.astype('float32')\n",
    "x_test = x_test.astype('float32')\n",
    "x_train /= 255\n",
    "x_test /= 255"
   ]
  },
  {
   "cell_type": "code",
   "execution_count": 37,
   "metadata": {},
   "outputs": [],
   "source": [
    "# categorical labels in the form of integers 0-9\n",
    "# one hot encoding, to define the output that the network should produce in response to each sample\n",
    "from keras.utils import to_categorical\n",
    "y_train = to_categorical(labels_train, 10)\n",
    "y_test = to_categorical(labels_test, 10)"
   ]
  },
  {
   "cell_type": "code",
   "execution_count": 38,
   "metadata": {},
   "outputs": [],
   "source": [
    "# data used as input to a convolutional layer\n",
    "# the first dimension corresponds to the number of exemplars\n",
    "x_train = x_train.reshape(x_train.shape[0], 28, 28, 1)\n",
    "x_test = x_test.reshape(x_test.shape[0], 28, 28, 1)"
   ]
  },
  {
   "cell_type": "code",
   "execution_count": 39,
   "metadata": {},
   "outputs": [],
   "source": [
    "# to build a simple CNN using convolutional, maxpooling, as well as dense layers (and with batch normalisation and dropout for some layers)\n",
    "from keras.models import Sequential\n",
    "from keras.layers import Conv2D, MaxPooling2D, Dense, Flatten, Dropout, Activation, ZeroPadding2D, GlobalAveragePooling2D\n",
    "from keras.preprocessing.image import ImageDataGenerator\n",
    "from keras.layers.normalization import BatchNormalization\n",
    "from keras.callbacks import LearningRateScheduler\n",
    "# from keras.optimizers import Adam\n",
    "net = Sequential()\n",
    "net.add(Conv2D(filters=32, kernel_size=(3, 3), activation='relu', input_shape=(28, 28, 1)))\n",
    "net.add(BatchNormalization())\n",
    "net.add(Conv2D(32, (3, 3), activation='relu'))\n",
    "net.add(BatchNormalization())\n",
    "# net.add(MaxPooling2D(pool_size=(2,2)))\n",
    "net.add(Conv2D(32, kernel_size = 5, strides=2, padding='same', activation='relu'))\n",
    "net.add(BatchNormalization())\n",
    "net.add(Dropout(0.4))\n",
    "net.add(Conv2D(filters=64, kernel_size=(3, 3), activation='relu'))\n",
    "net.add(BatchNormalization())\n",
    "net.add(Conv2D(filters=64, kernel_size=(3, 3), activation='relu'))\n",
    "net.add(BatchNormalization())\n",
    "# net.add(MaxPooling2D(pool_size=(2,2)))\n",
    "net.add(Conv2D(64, kernel_size = 5, strides=2, padding='same', activation='relu'))\n",
    "net.add(BatchNormalization())\n",
    "net.add(Dropout(0.4))\n",
    "net.add(Conv2D(128, kernel_size = 4, activation='relu'))\n",
    "net.add(BatchNormalization())\n",
    "net.add(Flatten())\n",
    "net.add(Dropout(0.4))\n",
    "net.add(Dense(10, activation='softmax'))"
   ]
  },
  {
   "cell_type": "code",
   "execution_count": 40,
   "metadata": {},
   "outputs": [],
   "source": [
    "# loss function, optimizer helps determine how quickly the network learns\n",
    "net.compile(loss='categorical_crossentropy', optimizer='adam', metrics=['accuracy'])\n",
    "# history = net.fit(x_train, y_train, validation_data=(x_test, y_test), epochs=10, batch_size=256)"
   ]
  },
  {
   "cell_type": "code",
   "execution_count": 41,
   "metadata": {},
   "outputs": [],
   "source": [
    "# ImageDataGenerator class generates batches of tensor image data with real-time data augmentation\n",
    "# train_gen = ImageDataGenerator(rotation_range=8, width_shift_range=0.08, shear_range=0.3,\n",
    "#                         height_shift_range=0.08, zoom_range=0.08)\n",
    "train_gen = ImageDataGenerator(rotation_range=10, zoom_range = 0.10, width_shift_range=0.1, height_shift_range=0.1)\n",
    "\n",
    "test_gen = ImageDataGenerator()"
   ]
  },
  {
   "cell_type": "code",
   "execution_count": 42,
   "metadata": {},
   "outputs": [],
   "source": [
    "# Takes data & label arrays, generates batches of augmented data\n",
    "train_generator = train_gen.flow(x_train, y_train, batch_size=64)\n",
    "test_generator = test_gen.flow(x_test, y_test, batch_size=64)"
   ]
  },
  {
   "cell_type": "code",
   "execution_count": 43,
   "metadata": {},
   "outputs": [
    {
     "name": "stdout",
     "output_type": "stream",
     "text": [
      "Epoch 1/45\n",
      "937/937 [==============================] - 158s 167ms/step - loss: 0.7466 - accuracy: 0.7723 - val_loss: 0.0320 - val_accuracy: 0.9898\n",
      "INFO:tensorflow:Assets written to: /Users/lee_king/Downloads/training/checkpoint/assets\n",
      "Epoch 2/45\n",
      "937/937 [==============================] - 152s 162ms/step - loss: 0.1094 - accuracy: 0.9658 - val_loss: 0.0261 - val_accuracy: 0.9913\n",
      "INFO:tensorflow:Assets written to: /Users/lee_king/Downloads/training/checkpoint/assets\n",
      "Epoch 3/45\n",
      "937/937 [==============================] - 151s 161ms/step - loss: 0.0829 - accuracy: 0.9750 - val_loss: 0.0249 - val_accuracy: 0.9929\n",
      "INFO:tensorflow:Assets written to: /Users/lee_king/Downloads/training/checkpoint/assets\n",
      "Epoch 4/45\n",
      "937/937 [==============================] - 164s 175ms/step - loss: 0.0685 - accuracy: 0.9791 - val_loss: 0.0260 - val_accuracy: 0.9916\n",
      "Epoch 5/45\n",
      "937/937 [==============================] - 155s 165ms/step - loss: 0.0633 - accuracy: 0.9805 - val_loss: 0.0445 - val_accuracy: 0.9881\n",
      "Epoch 6/45\n",
      "937/937 [==============================] - 150s 160ms/step - loss: 0.0525 - accuracy: 0.9844 - val_loss: 0.0167 - val_accuracy: 0.9952\n",
      "INFO:tensorflow:Assets written to: /Users/lee_king/Downloads/training/checkpoint/assets\n",
      "Epoch 7/45\n",
      "937/937 [==============================] - 154s 165ms/step - loss: 0.0496 - accuracy: 0.9852 - val_loss: 0.0133 - val_accuracy: 0.9955\n",
      "INFO:tensorflow:Assets written to: /Users/lee_king/Downloads/training/checkpoint/assets\n",
      "Epoch 8/45\n",
      "937/937 [==============================] - 157s 167ms/step - loss: 0.0481 - accuracy: 0.9857 - val_loss: 0.0163 - val_accuracy: 0.9950\n",
      "Epoch 9/45\n",
      "937/937 [==============================] - 151s 161ms/step - loss: 0.0453 - accuracy: 0.9867 - val_loss: 0.0199 - val_accuracy: 0.9938\n",
      "Epoch 10/45\n",
      "937/937 [==============================] - 156s 167ms/step - loss: 0.0423 - accuracy: 0.9874 - val_loss: 0.0128 - val_accuracy: 0.9957\n",
      "INFO:tensorflow:Assets written to: /Users/lee_king/Downloads/training/checkpoint/assets\n",
      "Epoch 11/45\n",
      "937/937 [==============================] - 147s 157ms/step - loss: 0.0344 - accuracy: 0.9895 - val_loss: 0.0194 - val_accuracy: 0.9944\n",
      "Epoch 12/45\n",
      "937/937 [==============================] - 156s 166ms/step - loss: 0.0335 - accuracy: 0.9896 - val_loss: 0.0172 - val_accuracy: 0.9948\n",
      "Epoch 13/45\n",
      "937/937 [==============================] - 150s 160ms/step - loss: 0.0313 - accuracy: 0.9905 - val_loss: 0.0136 - val_accuracy: 0.9955\n",
      "Epoch 14/45\n",
      "937/937 [==============================] - 154s 164ms/step - loss: 0.0288 - accuracy: 0.9921 - val_loss: 0.0120 - val_accuracy: 0.9954\n",
      "Epoch 15/45\n",
      "937/937 [==============================] - 153s 163ms/step - loss: 0.0275 - accuracy: 0.9915 - val_loss: 0.0124 - val_accuracy: 0.9963\n",
      "INFO:tensorflow:Assets written to: /Users/lee_king/Downloads/training/checkpoint/assets\n",
      "Epoch 16/45\n",
      "937/937 [==============================] - 158s 168ms/step - loss: 0.0281 - accuracy: 0.9922 - val_loss: 0.0137 - val_accuracy: 0.9955\n",
      "Epoch 17/45\n",
      "937/937 [==============================] - 165s 177ms/step - loss: 0.0266 - accuracy: 0.9922 - val_loss: 0.0142 - val_accuracy: 0.9952\n",
      "Epoch 18/45\n",
      "937/937 [==============================] - 151s 161ms/step - loss: 0.0247 - accuracy: 0.9924 - val_loss: 0.0148 - val_accuracy: 0.9954\n",
      "Epoch 19/45\n",
      "937/937 [==============================] - 154s 164ms/step - loss: 0.0259 - accuracy: 0.9919 - val_loss: 0.0119 - val_accuracy: 0.9957\n",
      "Epoch 20/45\n",
      "937/937 [==============================] - 157s 168ms/step - loss: 0.0218 - accuracy: 0.9936 - val_loss: 0.0114 - val_accuracy: 0.9960\n",
      "Epoch 21/45\n",
      "937/937 [==============================] - 153s 163ms/step - loss: 0.0208 - accuracy: 0.9932 - val_loss: 0.0135 - val_accuracy: 0.9960\n",
      "Epoch 22/45\n",
      "937/937 [==============================] - 157s 168ms/step - loss: 0.0235 - accuracy: 0.9933 - val_loss: 0.0142 - val_accuracy: 0.9950\n",
      "Epoch 23/45\n",
      "937/937 [==============================] - 144s 153ms/step - loss: 0.0190 - accuracy: 0.9943 - val_loss: 0.0123 - val_accuracy: 0.9964\n",
      "INFO:tensorflow:Assets written to: /Users/lee_king/Downloads/training/checkpoint/assets\n",
      "Epoch 24/45\n",
      "937/937 [==============================] - 138s 147ms/step - loss: 0.0209 - accuracy: 0.9943 - val_loss: 0.0154 - val_accuracy: 0.9951\n",
      "Epoch 25/45\n",
      "937/937 [==============================] - 150s 160ms/step - loss: 0.0193 - accuracy: 0.9939 - val_loss: 0.0159 - val_accuracy: 0.9949\n",
      "Epoch 26/45\n",
      "937/937 [==============================] - 146s 156ms/step - loss: 0.0194 - accuracy: 0.9946 - val_loss: 0.0132 - val_accuracy: 0.9958\n",
      "Epoch 27/45\n",
      "937/937 [==============================] - 138s 147ms/step - loss: 0.0175 - accuracy: 0.9949 - val_loss: 0.0155 - val_accuracy: 0.9961\n",
      "Epoch 28/45\n",
      "937/937 [==============================] - 143s 153ms/step - loss: 0.0177 - accuracy: 0.9948 - val_loss: 0.0115 - val_accuracy: 0.9958\n",
      "Epoch 29/45\n",
      "937/937 [==============================] - 142s 152ms/step - loss: 0.0157 - accuracy: 0.9952 - val_loss: 0.0129 - val_accuracy: 0.9962\n",
      "Epoch 30/45\n",
      "937/937 [==============================] - 141s 150ms/step - loss: 0.0155 - accuracy: 0.9952 - val_loss: 0.0131 - val_accuracy: 0.9953\n",
      "Epoch 31/45\n",
      "937/937 [==============================] - 140s 149ms/step - loss: 0.0160 - accuracy: 0.9952 - val_loss: 0.0134 - val_accuracy: 0.9962\n",
      "Epoch 32/45\n",
      "937/937 [==============================] - 140s 150ms/step - loss: 0.0142 - accuracy: 0.9954 - val_loss: 0.0123 - val_accuracy: 0.9965\n",
      "INFO:tensorflow:Assets written to: /Users/lee_king/Downloads/training/checkpoint/assets\n",
      "Epoch 33/45\n",
      "937/937 [==============================] - 151s 161ms/step - loss: 0.0175 - accuracy: 0.9946 - val_loss: 0.0113 - val_accuracy: 0.9959\n",
      "Epoch 34/45\n",
      "937/937 [==============================] - 148s 158ms/step - loss: 0.0132 - accuracy: 0.9961 - val_loss: 0.0118 - val_accuracy: 0.9958\n",
      "Epoch 35/45\n",
      "937/937 [==============================] - 154s 164ms/step - loss: 0.0130 - accuracy: 0.9961 - val_loss: 0.0128 - val_accuracy: 0.9963\n",
      "Epoch 36/45\n",
      "937/937 [==============================] - 167s 178ms/step - loss: 0.0117 - accuracy: 0.9964 - val_loss: 0.0121 - val_accuracy: 0.9965\n",
      "Epoch 37/45\n",
      "937/937 [==============================] - 166s 178ms/step - loss: 0.0146 - accuracy: 0.9956 - val_loss: 0.0124 - val_accuracy: 0.9961\n",
      "Epoch 38/45\n",
      "937/937 [==============================] - 164s 175ms/step - loss: 0.0121 - accuracy: 0.9960 - val_loss: 0.0129 - val_accuracy: 0.9965\n",
      "Epoch 39/45\n",
      "937/937 [==============================] - 161s 172ms/step - loss: 0.0128 - accuracy: 0.9966 - val_loss: 0.0130 - val_accuracy: 0.9959\n",
      "Epoch 40/45\n",
      "937/937 [==============================] - 155s 166ms/step - loss: 0.0116 - accuracy: 0.9965 - val_loss: 0.0132 - val_accuracy: 0.9959\n",
      "Epoch 41/45\n",
      "937/937 [==============================] - 157s 167ms/step - loss: 0.0109 - accuracy: 0.9966 - val_loss: 0.0117 - val_accuracy: 0.9964\n",
      "Epoch 42/45\n",
      "937/937 [==============================] - 148s 158ms/step - loss: 0.0126 - accuracy: 0.9961 - val_loss: 0.0126 - val_accuracy: 0.9962\n",
      "Epoch 43/45\n",
      "937/937 [==============================] - 145s 155ms/step - loss: 0.0107 - accuracy: 0.9967 - val_loss: 0.0125 - val_accuracy: 0.9961\n",
      "Epoch 44/45\n",
      "937/937 [==============================] - 163s 174ms/step - loss: 0.0123 - accuracy: 0.9966 - val_loss: 0.0121 - val_accuracy: 0.9961\n",
      "Epoch 45/45\n",
      "937/937 [==============================] - 169s 181ms/step - loss: 0.0117 - accuracy: 0.9969 - val_loss: 0.0115 - val_accuracy: 0.9961\n"
     ]
    }
   ],
   "source": [
    "# steps_per_epoch: after having run for steps_per_epoch gradient descent steps, the fitting process will go to the next epoch\n",
    "# validation_steps: tells the process how many batches to draw from the validation generator for evaluation\n",
    "from keras.callbacks import ModelCheckpoint\n",
    "annealer = LearningRateScheduler(lambda x: 1e-3 * 0.95 ** x)\n",
    "checkpoint_filepath = '/Users/lee_king/Downloads/training/checkpoint'\n",
    "model_checkpoint_callback = ModelCheckpoint(\n",
    "    filepath=checkpoint_filepath,\n",
    "    save_weights_only=False,\n",
    "    monitor='val_accuracy',\n",
    "    mode='max',\n",
    "    save_best_only=True)\n",
    "history = net.fit(train_generator, steps_per_epoch=60000//64, epochs=45, \n",
    "                    validation_data=test_generator, validation_steps=10000//64, callbacks=[annealer, model_checkpoint_callback])"
   ]
  },
  {
   "cell_type": "code",
   "execution_count": 44,
   "metadata": {},
   "outputs": [],
   "source": [
    "net.save(\"cnn_network_for_mnist.h5\")"
   ]
  },
  {
   "cell_type": "code",
   "execution_count": 45,
   "metadata": {},
   "outputs": [
    {
     "data": {
      "text/plain": [
       "<matplotlib.legend.Legend at 0x7fe45ef81a58>"
      ]
     },
     "execution_count": 45,
     "metadata": {},
     "output_type": "execute_result"
    },
    {
     "data": {
      "image/png": "[encoded data removed]",
      "text/plain": [
       "<Figure size 432x288 with 1 Axes>"
      ]
     },
     "metadata": {
      "needs_background": "light"
     },
     "output_type": "display_data"
    }
   ],
   "source": [
    "import matplotlib.pyplot as plt\n",
    "plt.figure()\n",
    "plt.plot(history.history['loss'], label='training loss')\n",
    "plt.plot(history.history['val_loss'], label='validation loss')\n",
    "plt.xlabel('epochs')\n",
    "plt.ylabel('loss')\n",
    "plt.legend()"
   ]
  },
  {
   "cell_type": "code",
   "execution_count": 47,
   "metadata": {},
   "outputs": [],
   "source": [
    "from keras.models import load_model, save_model\n",
    "pb_model_dir = \"/Users/lee_king/Downloads/training/saved_model\"\n",
    "h5_model = \"/Users/lee_king/Downloads/training/cnn_for_mnist.h5\"\n",
    "model = load_model(pb_model_dir)\n",
    "save_model(model, h5_model)\n",
    "net = load_model(h5_model)"
   ]
  },
  {
   "cell_type": "code",
   "execution_count": 48,
   "metadata": {},
   "outputs": [
    {
     "name": "stdout",
     "output_type": "stream",
     "text": [
      "percentage of misclassfied:  0.35\n"
     ]
    }
   ],
   "source": [
    "# testing a neural network\n",
    "import numpy as np\n",
    "outputs = net.predict(x_test)  # predict testing images in mnist\n",
    "labels_predicted = np.argmax(outputs, axis=1)  # argmax returns indices of maximum outputs\n",
    "misclassified = sum(labels_predicted != labels_test)  # count the number of misclassified labels\n",
    "print(\"percentage of misclassfied: \", 100*misclassified/labels_test.size)"
   ]
  },
  {
   "cell_type": "code",
   "execution_count": null,
   "metadata": {},
   "outputs": [],
   "source": []
  }
 ],
 "metadata": {
  "kernelspec": {
   "display_name": "python3.7.1",
   "language": "python",
   "name": "python3.7.1"
  },
  "language_info": {
   "codemirror_mode": {
    "name": "ipython",
    "version": 3
   },
   "file_extension": ".py",
   "mimetype": "text/x-python",
   "name": "python",
   "nbconvert_exporter": "python",
   "pygments_lexer": "ipython3",
   "version": "3.7.1"
  }
 },
 "nbformat": 4,
 "nbformat_minor": 2
}
