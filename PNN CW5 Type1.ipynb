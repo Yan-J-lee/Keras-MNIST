{
 "cells": [
  {
   "cell_type": "code",
   "execution_count": 490,
   "metadata": {},
   "outputs": [],
   "source": [
    "from keras.datasets import mnist  # handwritten digits\n",
    "(x_train, labels_train), (x_test, labels_test) = mnist.load_data()  # splitting, training images, training image labels ..."
   ]
  },
  {
   "cell_type": "code",
   "execution_count": 491,
   "metadata": {},
   "outputs": [],
   "source": [
    "# value normalisation; format the data, convert to floating-point numbers in the range [0, 1]\n",
    "x_train = x_train.astype('float32')\n",
    "x_test = x_test.astype('float32')\n",
    "x_train /= 255\n",
    "x_test /= 255"
   ]
  },
  {
   "cell_type": "code",
   "execution_count": 492,
   "metadata": {},
   "outputs": [],
   "source": [
    "# categorical labels in the form of integers 0-9\n",
    "# one hot encoding, to define the output that the network should produce in response to each sample\n",
    "from keras.utils import to_categorical\n",
    "y_train = to_categorical(labels_train, 10)\n",
    "y_test = to_categorical(labels_test, 10)"
   ]
  },
  {
   "cell_type": "code",
   "execution_count": 493,
   "metadata": {},
   "outputs": [],
   "source": [
    "# data used as input to a convolutional layer\n",
    "# the first dimension corresponds to the number of exemplars\n",
    "x_train = x_train.reshape(x_train.shape[0], 28, 28, 1)\n",
    "x_test = x_test.reshape(x_test.shape[0], 28, 28, 1)"
   ]
  },
  {
   "cell_type": "code",
   "execution_count": 494,
   "metadata": {},
   "outputs": [],
   "source": [
    "# to build a simple CNN using convolutional, maxpooling, as well as dense layers (and with batch normalisation and dropout for some layers)\n",
    "from keras.models import Sequential\n",
    "from keras.layers import Conv2D, MaxPooling2D, Dense, Flatten, Dropout, Activation, ZeroPadding2D, GlobalAveragePooling2D\n",
    "from keras.preprocessing.image import ImageDataGenerator\n",
    "from keras.layers.normalization import BatchNormalization\n",
    "# from keras.optimizers import Adam\n",
    "net = Sequential()\n",
    "net.add(Conv2D(filters=32, kernel_size=(3, 3), activation='relu', input_shape=(28, 28, 1)))\n",
    "BatchNormalization(axis=-1)\n",
    "net.add(Conv2D(32, (3, 3), activation='relu'))\n",
    "net.add(MaxPooling2D(pool_size=(2,2)))\n",
    "BatchNormalization(axis=-1)\n",
    "net.add(Conv2D(filters=64, kernel_size=(3, 3), activation='relu'))\n",
    "BatchNormalization(axis=-1)\n",
    "net.add(Conv2D(filters=64, kernel_size=(3, 3), activation='relu'))\n",
    "net.add(MaxPooling2D(pool_size=(2,2)))\n",
    "net.add(Flatten())\n",
    "BatchNormalization()\n",
    "net.add(Dense(256, activation='relu'))\n",
    "BatchNormalization()\n",
    "net.add(Dropout(0.5))\n",
    "net.add(Dense(10, activation='softmax'))"
   ]
  },
  {
   "cell_type": "code",
   "execution_count": 495,
   "metadata": {},
   "outputs": [],
   "source": [
    "# loss function, optimizer helps determine how quickly the network learns\n",
    "net.compile(loss='categorical_crossentropy', optimizer='adam', metrics=['accuracy'])\n",
    "# history = net.fit(x_train, y_train, validation_data=(x_test, y_test), epochs=10, batch_size=256)"
   ]
  },
  {
   "cell_type": "code",
   "execution_count": 496,
   "metadata": {},
   "outputs": [],
   "source": [
    "# ImageDataGenerator class generates batches of tensor image data with real-time data augmentation\n",
    "train_gen = ImageDataGenerator(rotation_range=8, width_shift_range=0.08, shear_range=0.3,\n",
    "                         height_shift_range=0.08, zoom_range=0.08)\n",
    "test_gen = ImageDataGenerator()"
   ]
  },
  {
   "cell_type": "code",
   "execution_count": 497,
   "metadata": {},
   "outputs": [],
   "source": [
    "# Takes data & label arrays, generates batches of augmented data\n",
    "train_generator = train_gen.flow(x_train, y_train, batch_size=64)\n",
    "test_generator = test_gen.flow(x_test, y_test, batch_size=64)"
   ]
  },
  {
   "cell_type": "code",
   "execution_count": 498,
   "metadata": {},
   "outputs": [
    {
     "name": "stdout",
     "output_type": "stream",
     "text": [
      "Epoch 1/15\n",
      "937/937 [==============================] - 97s 103ms/step - loss: 0.5628 - accuracy: 0.8113 - val_loss: 0.0376 - val_accuracy: 0.9881\n",
      "Epoch 2/15\n",
      "937/937 [==============================] - 85s 91ms/step - loss: 0.0869 - accuracy: 0.9722 - val_loss: 0.0311 - val_accuracy: 0.9896\n",
      "Epoch 3/15\n",
      "937/937 [==============================] - 99s 106ms/step - loss: 0.0622 - accuracy: 0.9808 - val_loss: 0.0201 - val_accuracy: 0.9933\n",
      "Epoch 4/15\n",
      "937/937 [==============================] - 91s 97ms/step - loss: 0.0541 - accuracy: 0.9833 - val_loss: 0.0208 - val_accuracy: 0.9935\n",
      "Epoch 5/15\n",
      "937/937 [==============================] - 90s 96ms/step - loss: 0.0485 - accuracy: 0.9858 - val_loss: 0.0209 - val_accuracy: 0.9934\n",
      "Epoch 6/15\n",
      "937/937 [==============================] - 89s 95ms/step - loss: 0.0421 - accuracy: 0.9870 - val_loss: 0.0171 - val_accuracy: 0.9944\n",
      "Epoch 7/15\n",
      "937/937 [==============================] - 90s 96ms/step - loss: 0.0388 - accuracy: 0.9878 - val_loss: 0.0180 - val_accuracy: 0.9941\n",
      "Epoch 8/15\n",
      "937/937 [==============================] - 88s 94ms/step - loss: 0.0358 - accuracy: 0.9890 - val_loss: 0.0196 - val_accuracy: 0.9933\n",
      "Epoch 9/15\n",
      "937/937 [==============================] - 93s 99ms/step - loss: 0.0324 - accuracy: 0.9901 - val_loss: 0.0145 - val_accuracy: 0.9951\n",
      "Epoch 10/15\n",
      "937/937 [==============================] - 86s 92ms/step - loss: 0.0271 - accuracy: 0.9917 - val_loss: 0.0185 - val_accuracy: 0.9948\n",
      "Epoch 11/15\n",
      "937/937 [==============================] - 87s 93ms/step - loss: 0.0287 - accuracy: 0.9914 - val_loss: 0.0133 - val_accuracy: 0.9960\n",
      "Epoch 12/15\n",
      "937/937 [==============================] - 93s 100ms/step - loss: 0.0299 - accuracy: 0.9904 - val_loss: 0.0165 - val_accuracy: 0.9948\n",
      "Epoch 13/15\n",
      "937/937 [==============================] - 91s 97ms/step - loss: 0.0275 - accuracy: 0.9918 - val_loss: 0.0180 - val_accuracy: 0.9951\n",
      "Epoch 14/15\n",
      "937/937 [==============================] - 80s 86ms/step - loss: 0.0288 - accuracy: 0.9917 - val_loss: 0.0151 - val_accuracy: 0.9956\n",
      "Epoch 15/15\n",
      "937/937 [==============================] - 79s 84ms/step - loss: 0.0247 - accuracy: 0.9926 - val_loss: 0.0126 - val_accuracy: 0.9960\n"
     ]
    },
    {
     "data": {
      "text/plain": [
       "<tensorflow.python.keras.callbacks.History at 0x7fab684f1e48>"
      ]
     },
     "execution_count": 498,
     "metadata": {},
     "output_type": "execute_result"
    }
   ],
   "source": [
    "# steps_per_epoch: after having run for steps_per_epoch gradient descent steps, the fitting process will go to the next epoch\n",
    "# validation_steps: tells the process how many batches to draw from the validation generator for evaluation\n",
    "net.fit(train_generator, steps_per_epoch=60000//64, epochs=15, \n",
    "                    validation_data=test_generator, validation_steps=10000//64)"
   ]
  },
  {
   "cell_type": "code",
   "execution_count": 499,
   "metadata": {},
   "outputs": [],
   "source": [
    "net.save(\"cnn_network_for_mnist.h5\")"
   ]
  },
  {
   "cell_type": "code",
   "execution_count": 500,
   "metadata": {},
   "outputs": [
    {
     "data": {
      "text/plain": [
       "<matplotlib.legend.Legend at 0x7fab78fa1cf8>"
      ]
     },
     "execution_count": 500,
     "metadata": {},
     "output_type": "execute_result"
    },
    {
     "data": {
      "image/png": "[encoded data removed]",
      "text/plain": [
       "<Figure size 432x288 with 1 Axes>"
      ]
     },
     "metadata": {
      "needs_background": "light"
     },
     "output_type": "display_data"
    }
   ],
   "source": [
    "import matplotlib.pyplot as plt\n",
    "plt.figure()\n",
    "plt.plot(history.history['loss'], label='training loss')\n",
    "plt.plot(history.history['val_loss'], label='validation loss')\n",
    "plt.xlabel('epochs')\n",
    "plt.ylabel('loss')\n",
    "plt.legend()"
   ]
  },
  {
   "cell_type": "code",
   "execution_count": 501,
   "metadata": {},
   "outputs": [
    {
     "name": "stdout",
     "output_type": "stream",
     "text": [
      "percentage of misclassfied:  0.4\n"
     ]
    }
   ],
   "source": [
    "# testing a neural network\n",
    "outputs = net.predict(x_test)  # predict testing images in mnist\n",
    "labels_predicted = np.argmax(outputs, axis=1)  # argmax returns indices of maximum outputs\n",
    "misclassified = sum(labels_predicted != labels_test)  # count the number of misclassified labels\n",
    "print(\"percentage of misclassfied: \", 100*misclassified/labels_test.size)"
   ]
  },
  {
   "cell_type": "code",
   "execution_count": null,
   "metadata": {},
   "outputs": [],
   "source": []
  }
 ],
 "metadata": {
  "kernelspec": {
   "display_name": "python3.7.1",
   "language": "python",
   "name": "python3.7.1"
  },
  "language_info": {
   "codemirror_mode": {
    "name": "ipython",
    "version": 3
   },
   "file_extension": ".py",
   "mimetype": "text/x-python",
   "name": "python",
   "nbconvert_exporter": "python",
   "pygments_lexer": "ipython3",
   "version": "3.7.1"
  }
 },
 "nbformat": 4,
 "nbformat_minor": 2
}
